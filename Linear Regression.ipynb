{
 "cells": [
  {
   "cell_type": "markdown",
   "metadata": {},
   "source": [
    "# Linear Regression\n",
    "This is a test to use the scikit-learn's LinearRegression to model the amount of filament used per minute of the cohort class Edison+ 3D Printer."
   ]
  },
  {
   "cell_type": "markdown",
   "metadata": {},
   "source": [
    "### Import Dependencies\n"
   ]
  },
  {
   "cell_type": "code",
   "execution_count": 1,
   "metadata": {},
   "outputs": [],
   "source": [
    "import numpy as np\n",
    "import matplotlib.pyplot as plt\n",
    "\n",
    "from sklearn import linear_model\n",
    "from sklearn.metrics import mean_squared_error, r2_score\n",
    "\n",
    "import csv\n",
    "%run 'preprocessor.ipynb' #our own preprocessor functions"
   ]
  },
  {
   "cell_type": "markdown",
   "metadata": {},
   "source": [
    "### Prepare Dataset"
   ]
  },
  {
   "cell_type": "code",
   "execution_count": 2,
   "metadata": {},
   "outputs": [
    {
     "name": "stdout",
     "output_type": "stream",
     "text": [
      "Number of samples: 176\n"
     ]
    }
   ],
   "source": [
    "with open('data_w1w4.csv', 'r') as f:\n",
    "      reader = csv.reader(f)\n",
    "      data = list(reader)\n",
    "    \n",
    "matrix = obtain_data_matrix(data)\n",
    "samples = len(matrix)\n",
    "print(\"Number of samples: \" + str(samples))\n",
    "\n",
    "Y = matrix[:,[8]]\n",
    "X = matrix[:,[9]]\n",
    "S = matrix[:,[11]]"
   ]
  },
  {
   "cell_type": "markdown",
   "metadata": {},
   "source": [
    "### Use the model (LinearRegression)"
   ]
  },
  {
   "cell_type": "code",
   "execution_count": 3,
   "metadata": {},
   "outputs": [],
   "source": [
    "# Create linear regression object\n",
    "regr = linear_model.LinearRegression()\n",
    "\n",
    "# Train the model using the training sets\n",
    "regr.fit(X, Y)\n",
    "\n",
    "# Make predictions using the testing set\n",
    "Y_pred = regr.predict(X)"
   ]
  },
  {
   "cell_type": "markdown",
   "metadata": {},
   "source": [
    "### Plot the data"
   ]
  },
  {
   "cell_type": "code",
   "execution_count": 4,
   "metadata": {
    "scrolled": true
   },
   "outputs": [
    {
     "name": "stdout",
     "output_type": "stream",
     "text": [
      "Coefficients:  [[ 0.08229866]]\n"
     ]
    },
    {
     "data": {
      "image/png": "[encoded data removed]",
      "text/plain": [
       "<matplotlib.figure.Figure at 0x7f87ca024e80>"
      ]
     },
     "metadata": {},
     "output_type": "display_data"
    },
    {
     "name": "stdout",
     "output_type": "stream",
     "text": [
      "Mean squared error: 122.52\n",
      "Variance score: 0.71\n"
     ]
    }
   ],
   "source": [
    "fig = plt.figure(1, figsize=(10, 4))\n",
    "plt.scatter([X], [Y], color='blue', edgecolor='k')\n",
    "plt.plot(X, Y_pred, color='red', linewidth=1)\n",
    "\n",
    "plt.xticks(())\n",
    "plt.yticks(())\n",
    "\n",
    "print('Coefficients: ', regr.coef_)\n",
    "\n",
    "plt.show()\n",
    "\n",
    "# The mean squared error\n",
    "print(\"Mean squared error: %.2f\"\n",
    "      % mean_squared_error(Y, Y_pred))\n",
    "# Explained variance score: 1 is perfect prediction\n",
    "print('Variance score: %.2f' % r2_score(Y, Y_pred))"
   ]
  },
  {
   "cell_type": "markdown",
   "metadata": {},
   "source": [
    "### Bootstrap to find parameter confidence intervals"
   ]
  },
  {
   "cell_type": "code",
   "execution_count": 5,
   "metadata": {},
   "outputs": [],
   "source": [
    "from sklearn.utils import resample\n",
    "\n",
    "bootstrap_resamples = 5000\n",
    "intercepts = []\n",
    "coefs = []\n",
    "for k in range(bootstrap_resamples):\n",
    "    #resample population with replacement\n",
    "    samples_resampled = resample(X,Y,replace=True,n_samples=len(X))\n",
    "    \n",
    "    ## Fit model to resampled data\n",
    "    # Create linear regression object\n",
    "    regr = linear_model.LinearRegression()\n",
    "\n",
    "    # Train the model using the training sets\n",
    "    regr.fit(samples_resampled[0], samples_resampled[1])\n",
    "    \n",
    "    coefs.append(regr.coef_[0][0])\n",
    "    intercepts.append(regr.intercept_[0])"
   ]
  },
  {
   "cell_type": "markdown",
   "metadata": {},
   "source": [
    "#### Calculate confidence interval"
   ]
  },
  {
   "cell_type": "code",
   "execution_count": 6,
   "metadata": {},
   "outputs": [
    {
     "name": "stdout",
     "output_type": "stream",
     "text": [
      "Coefs 95% CI = 0.06371 - 0.10284\n",
      "Intercepts 95% CI = -2.82305 - 1.91128\n"
     ]
    }
   ],
   "source": [
    "alpha = 0.95\n",
    "p_lower = ((1-alpha)/2.0) * 100\n",
    "p_upper = (alpha + ((1-alpha)/2.0)) * 100\n",
    "coefs_lower = np.percentile(coefs,p_lower)\n",
    "coefs_upper = np.percentile(coefs,p_upper)\n",
    "intercepts_lower = np.percentile(intercepts,p_lower)\n",
    "intercepts_upper = np.percentile(intercepts,p_upper)\n",
    "print('Coefs %.0f%% CI = %.5f - %.5f' % (alpha*100,coefs_lower,coefs_upper))\n",
    "print('Intercepts %.0f%% CI = %.5f - %.5f' % (alpha*100,intercepts_lower,intercepts_upper))"
   ]
  },
  {
   "cell_type": "markdown",
   "metadata": {},
   "source": [
    "#### Visualize frequency distributions of bootstrapped parameters "
   ]
  },
  {
   "cell_type": "code",
   "execution_count": 7,
   "metadata": {},
   "outputs": [
    {
     "data": {
      "image/png": "[encoded data removed]",
      "text/plain": [
       "<matplotlib.figure.Figure at 0x7f87c7ff92b0>"
      ]
     },
     "metadata": {},
     "output_type": "display_data"
    },
    {
     "data": {
      "image/png": "[encoded data removed]",
      "text/plain": [
       "<matplotlib.figure.Figure at 0x7f87ca04ecf8>"
      ]
     },
     "metadata": {},
     "output_type": "display_data"
    }
   ],
   "source": [
    "plt.hist(coefs)\n",
    "plt.xlabel('Coefficient X0')\n",
    "plt.title('Frquency Distribution of Coefficient X0')\n",
    "plt.show()\n",
    "\n",
    "plt.hist(intercepts)\n",
    "plt.xlabel('Intercept')\n",
    "plt.title('Frquency Distribution of Intercepts')\n",
    "plt.show()"
   ]
  }
 ],
 "metadata": {
  "kernelspec": {
   "display_name": "Python 3",
   "language": "python",
   "name": "python3"
  },
  "language_info": {
   "codemirror_mode": {
    "name": "ipython",
    "version": 3
   },
   "file_extension": ".py",
   "mimetype": "text/x-python",
   "name": "python",
   "nbconvert_exporter": "python",
   "pygments_lexer": "ipython3",
   "version": "3.5.2"
  }
 },
 "nbformat": 4,
 "nbformat_minor": 2
}
