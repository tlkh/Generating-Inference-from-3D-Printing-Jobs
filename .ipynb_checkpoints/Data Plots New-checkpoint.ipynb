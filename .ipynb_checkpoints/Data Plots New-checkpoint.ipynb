{
 "cells": [
  {
   "cell_type": "markdown",
   "metadata": {},
   "source": [
    "# Simple 2D Plots using Matplotlib\n",
    "Week 4 onwards (Term 2)"
   ]
  },
  {
   "cell_type": "markdown",
   "metadata": {},
   "source": [
    "### Import dependencies"
   ]
  },
  {
   "cell_type": "code",
   "execution_count": 1,
   "metadata": {
    "collapsed": true
   },
   "outputs": [],
   "source": [
    "import numpy as np\n",
    "import csv\n",
    "%run 'preprocessor.ipynb' #our own preprocessor functions"
   ]
  },
  {
   "cell_type": "markdown",
   "metadata": {},
   "source": [
    "### Load the dataset from the csv file"
   ]
  },
  {
   "cell_type": "code",
   "execution_count": 2,
   "metadata": {
    "collapsed": true
   },
   "outputs": [],
   "source": [
    "with open('/Users/timothy/Desktop/Files/data_new/merged.csv', 'r') as f:\n",
    "      reader = csv.reader(f)\n",
    "      data = list(reader)"
   ]
  },
  {
   "cell_type": "markdown",
   "metadata": {},
   "source": [
    "### Process the data\n",
    "We will output the data in the form of a numpy matrix using our preprocessing functions.\n",
    "The first row in the matrix (first data entry) and total number of samples will be displayed."
   ]
  },
  {
   "cell_type": "code",
   "execution_count": 3,
   "metadata": {},
   "outputs": [
    {
     "name": "stdout",
     "output_type": "stream",
     "text": [
      "Number of samples: 111\n"
     ]
    }
   ],
   "source": [
    "matrix = obtain_data_matrix(data)\n",
    "samples = len(matrix)\n",
    "print(\"Number of samples: \" + str(samples))"
   ]
  },
  {
   "cell_type": "markdown",
   "metadata": {},
   "source": [
    "### Prepare the individual data axis"
   ]
  },
  {
   "cell_type": "code",
   "execution_count": 4,
   "metadata": {
    "collapsed": true
   },
   "outputs": [],
   "source": [
    "filament = matrix[:,[8]]\n",
    "time = matrix[:,[9]]\n",
    "satisfaction = matrix[:,[10]]\n",
    "result = matrix[:,[11]]"
   ]
  },
  {
   "cell_type": "markdown",
   "metadata": {},
   "source": [
    "### Plot the data in 2D"
   ]
  },
  {
   "cell_type": "code",
   "execution_count": 21,
   "metadata": {},
   "outputs": [
    {
     "name": "stdout",
     "output_type": "stream",
     "text": [
      "[matrix([[4]], dtype=object)]\n",
      "[matrix([[4]], dtype=object)]\n",
      "[matrix([[4]], dtype=object)]\n",
      "[matrix([[4]], dtype=object)]\n",
      "[matrix([[5]], dtype=object)]\n",
      "[matrix([[5]], dtype=object)]\n",
      "[matrix([[5]], dtype=object)]\n",
      "[matrix([[5]], dtype=object)]\n",
      "[matrix([[5]], dtype=object)]\n",
      "[matrix([[5]], dtype=object)]\n",
      "[matrix([[5]], dtype=object)]\n",
      "[matrix([[3]], dtype=object)]\n",
      "[matrix([[4]], dtype=object)]\n",
      "[matrix([[4]], dtype=object)]\n",
      "[matrix([[5]], dtype=object)]\n",
      "[matrix([[5]], dtype=object)]\n",
      "[matrix([[4]], dtype=object)]\n",
      "[matrix([[4]], dtype=object)]\n",
      "[matrix([[1]], dtype=object)]\n",
      "[matrix([[1]], dtype=object)]\n",
      "[matrix([[2]], dtype=object)]\n",
      "[matrix([[3]], dtype=object)]\n",
      "[matrix([[4]], dtype=object)]\n",
      "[matrix([[4]], dtype=object)]\n",
      "[matrix([[4]], dtype=object)]\n",
      "[matrix([[4]], dtype=object)]\n",
      "[matrix([[4]], dtype=object)]\n",
      "[matrix([[5]], dtype=object)]\n",
      "[matrix([[5]], dtype=object)]\n",
      "[matrix([[4]], dtype=object)]\n",
      "[matrix([[5]], dtype=object)]\n",
      "[matrix([[4]], dtype=object)]\n",
      "[matrix([[5]], dtype=object)]\n",
      "[matrix([[5]], dtype=object)]\n",
      "[matrix([[5]], dtype=object)]\n",
      "[matrix([[4]], dtype=object)]\n",
      "[matrix([[4]], dtype=object)]\n",
      "[matrix([[5]], dtype=object)]\n",
      "[matrix([[5]], dtype=object)]\n",
      "[matrix([[4]], dtype=object)]\n",
      "[matrix([[5]], dtype=object)]\n",
      "[matrix([[4]], dtype=object)]\n",
      "[matrix([[3]], dtype=object)]\n",
      "[matrix([[4]], dtype=object)]\n",
      "[matrix([[4]], dtype=object)]\n",
      "[matrix([[4]], dtype=object)]\n",
      "[matrix([[3]], dtype=object)]\n",
      "[matrix([[4]], dtype=object)]\n",
      "[matrix([[4]], dtype=object)]\n",
      "[matrix([[4]], dtype=object)]\n",
      "[matrix([[2]], dtype=object)]\n",
      "[matrix([[1]], dtype=object)]\n",
      "[matrix([[5]], dtype=object)]\n",
      "[matrix([[1]], dtype=object)]\n",
      "[matrix([[1]], dtype=object)]\n",
      "[matrix([[4]], dtype=object)]\n",
      "[matrix([[4]], dtype=object)]\n",
      "[matrix([[4]], dtype=object)]\n",
      "[matrix([[3]], dtype=object)]\n",
      "[matrix([[4]], dtype=object)]\n",
      "[matrix([[4]], dtype=object)]\n",
      "[matrix([[3]], dtype=object)]\n",
      "[matrix([[5]], dtype=object)]\n",
      "[matrix([[5]], dtype=object)]\n",
      "[matrix([[4]], dtype=object)]\n",
      "[matrix([[5]], dtype=object)]\n",
      "[matrix([[1]], dtype=object)]\n",
      "[matrix([[1]], dtype=object)]\n",
      "[matrix([[4]], dtype=object)]\n",
      "[matrix([[4]], dtype=object)]\n",
      "[matrix([[4]], dtype=object)]\n",
      "[matrix([[4]], dtype=object)]\n",
      "[matrix([[4]], dtype=object)]\n",
      "[matrix([[4]], dtype=object)]\n",
      "[matrix([[4]], dtype=object)]\n",
      "[matrix([[5]], dtype=object)]\n",
      "[matrix([[5]], dtype=object)]\n",
      "[matrix([[5]], dtype=object)]\n",
      "[matrix([[4]], dtype=object)]\n",
      "[matrix([[5]], dtype=object)]\n",
      "[matrix([[5]], dtype=object)]\n",
      "[matrix([[2]], dtype=object)]\n",
      "[matrix([[5]], dtype=object)]\n",
      "[matrix([[3]], dtype=object)]\n",
      "[matrix([[3]], dtype=object)]\n",
      "[matrix([[4]], dtype=object)]\n",
      "[matrix([[4]], dtype=object)]\n",
      "[matrix([[4]], dtype=object)]\n",
      "[matrix([[5]], dtype=object)]\n",
      "[matrix([[4]], dtype=object)]\n",
      "[matrix([[5]], dtype=object)]\n",
      "[matrix([[5]], dtype=object)]\n",
      "[matrix([[4]], dtype=object)]\n",
      "[matrix([[4]], dtype=object)]\n",
      "[matrix([[5]], dtype=object)]\n",
      "[matrix([[4]], dtype=object)]\n",
      "[matrix([[1]], dtype=object)]\n",
      "[matrix([[5]], dtype=object)]\n",
      "[matrix([[1]], dtype=object)]\n",
      "[matrix([[5]], dtype=object)]\n",
      "[matrix([[1]], dtype=object)]\n",
      "[matrix([[1]], dtype=object)]\n",
      "[matrix([[5]], dtype=object)]\n",
      "[matrix([[4]], dtype=object)]\n",
      "[matrix([[4]], dtype=object)]\n",
      "[matrix([[5]], dtype=object)]\n",
      "[matrix([[5]], dtype=object)]\n",
      "[matrix([[4]], dtype=object)]\n",
      "[matrix([[4]], dtype=object)]\n",
      "[matrix([[3]], dtype=object)]\n",
      "[matrix([[4]], dtype=object)]\n"
     ]
    },
    {
     "data": {
      "image/png": "[encoded data removed]",
      "text/plain": [
       "<matplotlib.figure.Figure at 0x1124fb240>"
      ]
     },
     "metadata": {},
     "output_type": "display_data"
    }
   ],
   "source": [
    "import matplotlib.pyplot as plt\n",
    "\n",
    "plt.figure(1, figsize=(12, 8))\n",
    "plt.xlabel('Print Time (mins)')\n",
    "plt.ylabel('Filament (m)')\n",
    "plt.title('Filament Use')\n",
    "for data in matrix:\n",
    "    filament = [data[0][:,8]]\n",
    "    time = [data[0][:,9]]\n",
    "    satisfaction = [data[:,[10]]]\n",
    "    print(satisfaction)\n",
    "    result = [data[:,[11]]]\n",
    "    result_success = [[1]]\n",
    "    if result[0] == result_success:\n",
    "        plt.scatter(time, filament, c=\"green\", alpha=0.5,)\n",
    "    else:\n",
    "        plt.scatter(time, filament, c=\"red\", alpha=0.5,)\n",
    "        \n",
    "plt.tight_layout()\n",
    "plt.show()"
   ]
  },
  {
   "cell_type": "code",
   "execution_count": null,
   "metadata": {
    "collapsed": true
   },
   "outputs": [],
   "source": []
  }
 ],
 "metadata": {
  "kernelspec": {
   "display_name": "Python 3",
   "language": "python",
   "name": "python3"
  },
  "language_info": {
   "codemirror_mode": {
    "name": "ipython",
    "version": 3
   },
   "file_extension": ".py",
   "mimetype": "text/x-python",
   "name": "python",
   "nbconvert_exporter": "python",
   "pygments_lexer": "ipython3",
   "version": "3.6.2"
  }
 },
 "nbformat": 4,
 "nbformat_minor": 2
}
