{
 "cells": [
  {
   "cell_type": "markdown",
   "metadata": {},
   "source": [
    "# hdbscan test"
   ]
  },
  {
   "cell_type": "code",
   "execution_count": null,
   "metadata": {
    "collapsed": true
   },
   "outputs": [],
   "source": [
    "import hdbscan\n",
    "import csv\n",
    "import pandas as pd\n",
    "from IPython.display import display\n",
    "import itertools\n",
    "\n",
    "import numpy as np\n",
    "import matplotlib.pyplot as plt\n",
    "import seaborn as sns\n",
    "\n",
    "%run 'preprocessor.ipynb' #our own preprocessor functions"
   ]
  },
  {
   "cell_type": "markdown",
   "metadata": {},
   "source": [
    "### Distance metric to fuse different types of data (Gower)"
   ]
  },
  {
   "cell_type": "code",
   "execution_count": null,
   "metadata": {
    "collapsed": true
   },
   "outputs": [],
   "source": [
    "def gower_distance(df,types):\n",
    "    \"\"\"\n",
    "    Treat each type of data with an appropriate distance measure\n",
    "    Inputs:\n",
    "        df: dataframe containing all data\n",
    "        types: list containing type of data (length = number of data columns in df)\n",
    "            categorical, rating (ordinal), continuous\n",
    "    Outputs:\n",
    "        pairwise_distance_matrix: full pairwise distance matrix between all rows and columns\n",
    "    \"\"\"\n",
    "    \n",
    "    return pairwise_distance_matrix"
   ]
  },
  {
   "cell_type": "markdown",
   "metadata": {},
   "source": [
    "### Prepare Dataset"
   ]
  },
  {
   "cell_type": "code",
   "execution_count": null,
   "metadata": {},
   "outputs": [],
   "source": [
    "with open('data_w1w4.csv', 'r') as f:\n",
    "      reader = csv.reader(f)\n",
    "      data = list(reader)\n",
    "    \n",
    "matrix = obtain_data_matrix(data)\n",
    "samples = len(matrix)\n",
    "\n",
    "print(\"Number of samples: \" + str(samples))\n",
    "print(\"First entry: \" + str(matrix[0]))\n",
    "\n",
    "df = pd.DataFrame(matrix)\n",
    "df.columns = ['uid',\n",
    "              \"Test Fit (tolerances)\",\n",
    "              \"Test Strength\",\n",
    "              \"Test Ergonomics\",\n",
    "              \"Wearout\",\n",
    "              \"Integration\",\n",
    "              \"Ornamental / Design or Ornamental / Gift or Design (Look)\",\n",
    "              \"Others\",\n",
    "              \"Filament Used\",\n",
    "              \"Print Time\",\n",
    "              \"Satisfaction\",\n",
    "              \"Print Failed\"\n",
    "             ]"
   ]
  },
  {
   "cell_type": "markdown",
   "metadata": {},
   "source": [
    "### Perform clustering with hdbscan"
   ]
  },
  {
   "cell_type": "code",
   "execution_count": null,
   "metadata": {
    "collapsed": true
   },
   "outputs": [],
   "source": [
    "#create clusterer\n",
    "#TODO: distance metric appropriate to our mixed data? Alternatively, scale data?\n",
    "clusterer = hdbscan.HDBSCAN()\n",
    "\n",
    "#specify columns to ignore during clustering\n",
    "remove_cols = ['uid']\n",
    "\n",
    "#apply clusterer to data\n",
    "clusterer.fit(df.drop(remove_cols,axis=1))\n",
    "\n",
    "#add cluster labels and cluster probabilities to dataframe\n",
    "df['clusters'] = clusterer.labels_\n",
    "df['probabilities'] = clusterer.probabilities_"
   ]
  },
  {
   "cell_type": "markdown",
   "metadata": {},
   "source": [
    "### Make all pairwise 2D plots"
   ]
  },
  {
   "cell_type": "code",
   "execution_count": null,
   "metadata": {},
   "outputs": [],
   "source": [
    "\"\"\"\n",
    "Plot every pairwise combination of data. \n",
    "Points are colored according to cluster and \n",
    "faded according to probability of cluster membership.\n",
    "\"\"\"\n",
    "\n",
    "#remove entries that were not assigned to a cluster\n",
    "df_noiseless = df[df['clusters'] != -1]\n",
    "\n",
    "#generate color palette for noiseless dataframe (from hdbscan tutorial)\n",
    "color_palette = sns.color_palette('colorblind', max(df_noiseless['clusters'])+1)\n",
    "cluster_colors = [color_palette[x] if x >= 0\n",
    "                  else (0.5, 0.5, 0.5)\n",
    "                  for x in df_noiseless['clusters']]\n",
    "cluster_member_colors = [sns.desaturate(x, p) for x, p in\n",
    "                         zip(cluster_colors, df_noiseless['probabilities'])]\n",
    "\n",
    "#make all the plots! (most will be nonsense)\n",
    "for header in itertools.permutations(list(df.columns),2):\n",
    "    plt.scatter(*np.array(df_noiseless[[header[0],header[1]]]).T, s=50, linewidth=0, c=cluster_member_colors, alpha=0.25)\n",
    "    plt.xlabel(header[0])\n",
    "    plt.ylabel(header[1])\n",
    "    plt.show()"
   ]
  },
  {
   "cell_type": "markdown",
   "metadata": {},
   "source": [
    "### Dump Dataframe"
   ]
  },
  {
   "cell_type": "code",
   "execution_count": null,
   "metadata": {},
   "outputs": [],
   "source": [
    "print full dataframe\n",
    "with pd.option_context('display.max_rows', None, 'display.max_columns', None):\n",
    "    display(df.sort_values('clusters'))"
   ]
  }
 ],
 "metadata": {
  "kernelspec": {
   "display_name": "Python  3",
   "language": "python",
   "name": "distributed_ideation"
  },
  "language_info": {
   "codemirror_mode": {
    "name": "ipython",
    "version": 3
   },
   "file_extension": ".py",
   "mimetype": "text/x-python",
   "name": "python",
   "nbconvert_exporter": "python",
   "pygments_lexer": "ipython3",
   "version": "3.5.2"
  }
 },
 "nbformat": 4,
 "nbformat_minor": 2
}
